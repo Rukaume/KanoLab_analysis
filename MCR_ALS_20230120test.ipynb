{
 "cells": [
  {
   "cell_type": "code",
   "source": [
    "# moduleのインポート\n",
    "import os\n",
    "import math\n",
    "import pandas as pd\n",
    "import numpy as np\n",
    "import matplotlib.pyplot as plt\n",
    "\n",
    "from sklearn.decomposition import PCA\n",
    "import matplotlib.ticker as ticker\n",
    "from sklearn.cluster import KMeans\n",
    "\n"
   ],
   "metadata": {
    "id": "SjQQvovA0I58",
    "executionInfo": {
     "status": "ok",
     "timestamp": 1674183531568,
     "user_tz": -540,
     "elapsed": 2998,
     "user": {
      "displayName": "加納研究室",
      "userId": "04223418218813721824"
     }
    }
   },
   "execution_count": 2,
   "outputs": []
  },
  {
   "cell_type": "code",
   "execution_count": 3,
   "metadata": {
    "colab": {
     "base_uri": "https://localhost:8080/",
     "height": 1000
    },
    "executionInfo": {
     "elapsed": 87032,
     "status": "ok",
     "timestamp": 1674184627143,
     "user": {
      "displayName": "加納研究室",
      "userId": "04223418218813721824"
     },
     "user_tz": -540
    },
    "id": "21VNBPncRQpd",
    "outputId": "86e8e030-67a9-4162-eeff-64dd831c97d1"
   },
   "outputs": [
    {
     "ename": "KeyboardInterrupt",
     "evalue": "",
     "output_type": "error",
     "traceback": [
      "\u001B[0;31m---------------------------------------------------------------------------\u001B[0m",
      "\u001B[0;31mKeyboardInterrupt\u001B[0m                         Traceback (most recent call last)",
      "Cell \u001B[0;32mIn[3], line 126\u001B[0m\n\u001B[1;32m    121\u001B[0m     \u001B[38;5;66;03m#Entropy_analysis(data, x_axis, flag=\"subrange\")\u001B[39;00m\n\u001B[1;32m    123\u001B[0m     \u001B[38;5;28;01mreturn\u001B[39;00m Spectrum, data\n\u001B[0;32m--> 126\u001B[0m Spectrum, data \u001B[38;5;241m=\u001B[39m \u001B[43mexecute_analysis\u001B[49m\u001B[43m(\u001B[49m\u001B[43mdata_path\u001B[49m\u001B[43m,\u001B[49m\u001B[43m \u001B[49m\u001B[43maxis_path\u001B[49m\u001B[43m)\u001B[49m\n",
      "Cell \u001B[0;32mIn[3], line 112\u001B[0m, in \u001B[0;36mexecute_analysis\u001B[0;34m(data_path, axis_path)\u001B[0m\n\u001B[1;32m    110\u001B[0m os\u001B[38;5;241m.\u001B[39mchdir(os\u001B[38;5;241m.\u001B[39mpath\u001B[38;5;241m.\u001B[39mdirname(data_path))\n\u001B[1;32m    111\u001B[0m \u001B[38;5;66;03m# all range analysis\u001B[39;00m\n\u001B[0;32m--> 112\u001B[0m data \u001B[38;5;241m=\u001B[39m \u001B[43mpd\u001B[49m\u001B[38;5;241;43m.\u001B[39;49m\u001B[43mread_csv\u001B[49m\u001B[43m(\u001B[49m\u001B[43mdata_path\u001B[49m\u001B[43m,\u001B[49m\u001B[43m \u001B[49m\u001B[43mheader\u001B[49m\u001B[38;5;241;43m=\u001B[39;49m\u001B[38;5;28;43;01mNone\u001B[39;49;00m\u001B[43m)\u001B[49m\u001B[38;5;241m.\u001B[39mT[\u001B[38;5;241m0\u001B[39m:x \u001B[38;5;241m*\u001B[39m y]\n\u001B[1;32m    113\u001B[0m x_axis \u001B[38;5;241m=\u001B[39m np\u001B[38;5;241m.\u001B[39mloadtxt(axis_path)\n\u001B[1;32m    114\u001B[0m Spectrum \u001B[38;5;241m=\u001B[39m PCA_analysis(data, x_axis, flag\u001B[38;5;241m=\u001B[39m\u001B[38;5;124m\"\u001B[39m\u001B[38;5;124mfull\u001B[39m\u001B[38;5;124m\"\u001B[39m)\n",
      "File \u001B[0;32m~/PycharmProjects/KanoLab_analysis/venv/lib/python3.9/site-packages/pandas/util/_decorators.py:211\u001B[0m, in \u001B[0;36mdeprecate_kwarg.<locals>._deprecate_kwarg.<locals>.wrapper\u001B[0;34m(*args, **kwargs)\u001B[0m\n\u001B[1;32m    209\u001B[0m     \u001B[38;5;28;01melse\u001B[39;00m:\n\u001B[1;32m    210\u001B[0m         kwargs[new_arg_name] \u001B[38;5;241m=\u001B[39m new_arg_value\n\u001B[0;32m--> 211\u001B[0m \u001B[38;5;28;01mreturn\u001B[39;00m \u001B[43mfunc\u001B[49m\u001B[43m(\u001B[49m\u001B[38;5;241;43m*\u001B[39;49m\u001B[43margs\u001B[49m\u001B[43m,\u001B[49m\u001B[43m \u001B[49m\u001B[38;5;241;43m*\u001B[39;49m\u001B[38;5;241;43m*\u001B[39;49m\u001B[43mkwargs\u001B[49m\u001B[43m)\u001B[49m\n",
      "File \u001B[0;32m~/PycharmProjects/KanoLab_analysis/venv/lib/python3.9/site-packages/pandas/util/_decorators.py:331\u001B[0m, in \u001B[0;36mdeprecate_nonkeyword_arguments.<locals>.decorate.<locals>.wrapper\u001B[0;34m(*args, **kwargs)\u001B[0m\n\u001B[1;32m    325\u001B[0m \u001B[38;5;28;01mif\u001B[39;00m \u001B[38;5;28mlen\u001B[39m(args) \u001B[38;5;241m>\u001B[39m num_allow_args:\n\u001B[1;32m    326\u001B[0m     warnings\u001B[38;5;241m.\u001B[39mwarn(\n\u001B[1;32m    327\u001B[0m         msg\u001B[38;5;241m.\u001B[39mformat(arguments\u001B[38;5;241m=\u001B[39m_format_argument_list(allow_args)),\n\u001B[1;32m    328\u001B[0m         \u001B[38;5;167;01mFutureWarning\u001B[39;00m,\n\u001B[1;32m    329\u001B[0m         stacklevel\u001B[38;5;241m=\u001B[39mfind_stack_level(),\n\u001B[1;32m    330\u001B[0m     )\n\u001B[0;32m--> 331\u001B[0m \u001B[38;5;28;01mreturn\u001B[39;00m \u001B[43mfunc\u001B[49m\u001B[43m(\u001B[49m\u001B[38;5;241;43m*\u001B[39;49m\u001B[43margs\u001B[49m\u001B[43m,\u001B[49m\u001B[43m \u001B[49m\u001B[38;5;241;43m*\u001B[39;49m\u001B[38;5;241;43m*\u001B[39;49m\u001B[43mkwargs\u001B[49m\u001B[43m)\u001B[49m\n",
      "File \u001B[0;32m~/PycharmProjects/KanoLab_analysis/venv/lib/python3.9/site-packages/pandas/io/parsers/readers.py:950\u001B[0m, in \u001B[0;36mread_csv\u001B[0;34m(filepath_or_buffer, sep, delimiter, header, names, index_col, usecols, squeeze, prefix, mangle_dupe_cols, dtype, engine, converters, true_values, false_values, skipinitialspace, skiprows, skipfooter, nrows, na_values, keep_default_na, na_filter, verbose, skip_blank_lines, parse_dates, infer_datetime_format, keep_date_col, date_parser, dayfirst, cache_dates, iterator, chunksize, compression, thousands, decimal, lineterminator, quotechar, quoting, doublequote, escapechar, comment, encoding, encoding_errors, dialect, error_bad_lines, warn_bad_lines, on_bad_lines, delim_whitespace, low_memory, memory_map, float_precision, storage_options)\u001B[0m\n\u001B[1;32m    935\u001B[0m kwds_defaults \u001B[38;5;241m=\u001B[39m _refine_defaults_read(\n\u001B[1;32m    936\u001B[0m     dialect,\n\u001B[1;32m    937\u001B[0m     delimiter,\n\u001B[0;32m   (...)\u001B[0m\n\u001B[1;32m    946\u001B[0m     defaults\u001B[38;5;241m=\u001B[39m{\u001B[38;5;124m\"\u001B[39m\u001B[38;5;124mdelimiter\u001B[39m\u001B[38;5;124m\"\u001B[39m: \u001B[38;5;124m\"\u001B[39m\u001B[38;5;124m,\u001B[39m\u001B[38;5;124m\"\u001B[39m},\n\u001B[1;32m    947\u001B[0m )\n\u001B[1;32m    948\u001B[0m kwds\u001B[38;5;241m.\u001B[39mupdate(kwds_defaults)\n\u001B[0;32m--> 950\u001B[0m \u001B[38;5;28;01mreturn\u001B[39;00m \u001B[43m_read\u001B[49m\u001B[43m(\u001B[49m\u001B[43mfilepath_or_buffer\u001B[49m\u001B[43m,\u001B[49m\u001B[43m \u001B[49m\u001B[43mkwds\u001B[49m\u001B[43m)\u001B[49m\n",
      "File \u001B[0;32m~/PycharmProjects/KanoLab_analysis/venv/lib/python3.9/site-packages/pandas/io/parsers/readers.py:611\u001B[0m, in \u001B[0;36m_read\u001B[0;34m(filepath_or_buffer, kwds)\u001B[0m\n\u001B[1;32m    608\u001B[0m     \u001B[38;5;28;01mreturn\u001B[39;00m parser\n\u001B[1;32m    610\u001B[0m \u001B[38;5;28;01mwith\u001B[39;00m parser:\n\u001B[0;32m--> 611\u001B[0m     \u001B[38;5;28;01mreturn\u001B[39;00m \u001B[43mparser\u001B[49m\u001B[38;5;241;43m.\u001B[39;49m\u001B[43mread\u001B[49m\u001B[43m(\u001B[49m\u001B[43mnrows\u001B[49m\u001B[43m)\u001B[49m\n",
      "File \u001B[0;32m~/PycharmProjects/KanoLab_analysis/venv/lib/python3.9/site-packages/pandas/io/parsers/readers.py:1778\u001B[0m, in \u001B[0;36mTextFileReader.read\u001B[0;34m(self, nrows)\u001B[0m\n\u001B[1;32m   1771\u001B[0m nrows \u001B[38;5;241m=\u001B[39m validate_integer(\u001B[38;5;124m\"\u001B[39m\u001B[38;5;124mnrows\u001B[39m\u001B[38;5;124m\"\u001B[39m, nrows)\n\u001B[1;32m   1772\u001B[0m \u001B[38;5;28;01mtry\u001B[39;00m:\n\u001B[1;32m   1773\u001B[0m     \u001B[38;5;66;03m# error: \"ParserBase\" has no attribute \"read\"\u001B[39;00m\n\u001B[1;32m   1774\u001B[0m     (\n\u001B[1;32m   1775\u001B[0m         index,\n\u001B[1;32m   1776\u001B[0m         columns,\n\u001B[1;32m   1777\u001B[0m         col_dict,\n\u001B[0;32m-> 1778\u001B[0m     ) \u001B[38;5;241m=\u001B[39m \u001B[38;5;28;43mself\u001B[39;49m\u001B[38;5;241;43m.\u001B[39;49m\u001B[43m_engine\u001B[49m\u001B[38;5;241;43m.\u001B[39;49m\u001B[43mread\u001B[49m\u001B[43m(\u001B[49m\u001B[43m  \u001B[49m\u001B[38;5;66;43;03m# type: ignore[attr-defined]\u001B[39;49;00m\n\u001B[1;32m   1779\u001B[0m \u001B[43m        \u001B[49m\u001B[43mnrows\u001B[49m\n\u001B[1;32m   1780\u001B[0m \u001B[43m    \u001B[49m\u001B[43m)\u001B[49m\n\u001B[1;32m   1781\u001B[0m \u001B[38;5;28;01mexcept\u001B[39;00m \u001B[38;5;167;01mException\u001B[39;00m:\n\u001B[1;32m   1782\u001B[0m     \u001B[38;5;28mself\u001B[39m\u001B[38;5;241m.\u001B[39mclose()\n",
      "File \u001B[0;32m~/PycharmProjects/KanoLab_analysis/venv/lib/python3.9/site-packages/pandas/io/parsers/c_parser_wrapper.py:230\u001B[0m, in \u001B[0;36mCParserWrapper.read\u001B[0;34m(self, nrows)\u001B[0m\n\u001B[1;32m    228\u001B[0m \u001B[38;5;28;01mtry\u001B[39;00m:\n\u001B[1;32m    229\u001B[0m     \u001B[38;5;28;01mif\u001B[39;00m \u001B[38;5;28mself\u001B[39m\u001B[38;5;241m.\u001B[39mlow_memory:\n\u001B[0;32m--> 230\u001B[0m         chunks \u001B[38;5;241m=\u001B[39m \u001B[38;5;28;43mself\u001B[39;49m\u001B[38;5;241;43m.\u001B[39;49m\u001B[43m_reader\u001B[49m\u001B[38;5;241;43m.\u001B[39;49m\u001B[43mread_low_memory\u001B[49m\u001B[43m(\u001B[49m\u001B[43mnrows\u001B[49m\u001B[43m)\u001B[49m\n\u001B[1;32m    231\u001B[0m         \u001B[38;5;66;03m# destructive to chunks\u001B[39;00m\n\u001B[1;32m    232\u001B[0m         data \u001B[38;5;241m=\u001B[39m _concatenate_chunks(chunks)\n",
      "File \u001B[0;32m~/PycharmProjects/KanoLab_analysis/venv/lib/python3.9/site-packages/pandas/_libs/parsers.pyx:808\u001B[0m, in \u001B[0;36mpandas._libs.parsers.TextReader.read_low_memory\u001B[0;34m()\u001B[0m\n",
      "File \u001B[0;32m~/PycharmProjects/KanoLab_analysis/venv/lib/python3.9/site-packages/pandas/_libs/parsers.pyx:890\u001B[0m, in \u001B[0;36mpandas._libs.parsers.TextReader._read_rows\u001B[0;34m()\u001B[0m\n",
      "File \u001B[0;32m~/PycharmProjects/KanoLab_analysis/venv/lib/python3.9/site-packages/pandas/_libs/parsers.pyx:1037\u001B[0m, in \u001B[0;36mpandas._libs.parsers.TextReader._convert_column_data\u001B[0;34m()\u001B[0m\n",
      "File \u001B[0;32m~/PycharmProjects/KanoLab_analysis/venv/lib/python3.9/site-packages/pandas/_libs/parsers.pyx:1083\u001B[0m, in \u001B[0;36mpandas._libs.parsers.TextReader._convert_tokens\u001B[0;34m()\u001B[0m\n",
      "File \u001B[0;32m~/PycharmProjects/KanoLab_analysis/venv/lib/python3.9/site-packages/pandas/_libs/parsers.pyx:1158\u001B[0m, in \u001B[0;36mpandas._libs.parsers.TextReader._convert_with_dtype\u001B[0;34m()\u001B[0m\n",
      "File \u001B[0;32m~/PycharmProjects/KanoLab_analysis/venv/lib/python3.9/site-packages/pandas/core/dtypes/common.py:1433\u001B[0m, in \u001B[0;36mis_extension_array_dtype\u001B[0;34m(arr_or_dtype)\u001B[0m\n\u001B[1;32m   1424\u001B[0m     \u001B[38;5;66;03m# Note: if other EA dtypes are ever held in HybridBlock, exclude those\u001B[39;00m\n\u001B[1;32m   1425\u001B[0m     \u001B[38;5;66;03m#  here too.\u001B[39;00m\n\u001B[1;32m   1426\u001B[0m     \u001B[38;5;66;03m# NB: need to check DatetimeTZDtype and not is_datetime64tz_dtype\u001B[39;00m\n\u001B[1;32m   1427\u001B[0m     \u001B[38;5;66;03m#  to exclude ArrowTimestampUSDtype\u001B[39;00m\n\u001B[1;32m   1428\u001B[0m     \u001B[38;5;28;01mreturn\u001B[39;00m \u001B[38;5;28misinstance\u001B[39m(dtype, ExtensionDtype) \u001B[38;5;129;01mand\u001B[39;00m \u001B[38;5;129;01mnot\u001B[39;00m \u001B[38;5;28misinstance\u001B[39m(\n\u001B[1;32m   1429\u001B[0m         dtype, (DatetimeTZDtype, PeriodDtype)\n\u001B[1;32m   1430\u001B[0m     )\n\u001B[0;32m-> 1433\u001B[0m \u001B[38;5;28;01mdef\u001B[39;00m \u001B[38;5;21mis_extension_array_dtype\u001B[39m(arr_or_dtype) \u001B[38;5;241m-\u001B[39m\u001B[38;5;241m>\u001B[39m \u001B[38;5;28mbool\u001B[39m:\n\u001B[1;32m   1434\u001B[0m \u001B[38;5;250m    \u001B[39m\u001B[38;5;124;03m\"\"\"\u001B[39;00m\n\u001B[1;32m   1435\u001B[0m \u001B[38;5;124;03m    Check if an object is a pandas extension array type.\u001B[39;00m\n\u001B[1;32m   1436\u001B[0m \n\u001B[0;32m   (...)\u001B[0m\n\u001B[1;32m   1476\u001B[0m \u001B[38;5;124;03m    False\u001B[39;00m\n\u001B[1;32m   1477\u001B[0m \u001B[38;5;124;03m    \"\"\"\u001B[39;00m\n\u001B[1;32m   1478\u001B[0m     dtype \u001B[38;5;241m=\u001B[39m \u001B[38;5;28mgetattr\u001B[39m(arr_or_dtype, \u001B[38;5;124m\"\u001B[39m\u001B[38;5;124mdtype\u001B[39m\u001B[38;5;124m\"\u001B[39m, arr_or_dtype)\n",
      "\u001B[0;31mKeyboardInterrupt\u001B[0m: "
     ]
    }
   ],
   "source": [
    "# データのパス\n",
    "data_path = \"/Users/miyazakishinichi/Library/CloudStorage/GoogleDrive-s.miyazaki.med@gmail.com/.shortcut-targets-by-id/1ChgdmRlKZ2klXuoWPaMWiX2pLhJ1-0nY/miyazaki/python_analysis/MCRtest/pyMCR/Data.csv\"\n",
    "# 横軸のパス\n",
    "axis_path = \"/Users/miyazakishinichi/Library/CloudStorage/GoogleDrive-s.miyazaki.med@gmail.com/.shortcut-targets-by-id/1ChgdmRlKZ2klXuoWPaMWiX2pLhJ1-0nY/miyazaki/python_analysis/MCRtest/pyMCR/re_ramanshift2.csv\"\n",
    "\n",
    "# PCA後のデータをいくつのクラスターに分けるか\n",
    "cluster_num = 10\n",
    "# データの縦幅\n",
    "x = 501\n",
    "# データの横幅\n",
    "y = 351\n",
    "# 詳細に解析する波数範囲 (指紋領域用にしています)\n",
    "subrange = (700, 3500)\n",
    "\n",
    "def normalization(data_array):\n",
    "    \"\"\"\n",
    "    normalize the data array within 0~255\n",
    "    :param data_array: numpy array\n",
    "    :return: data_array: numpy array (overwrite)\n",
    "    \"\"\"\n",
    "    amin = np.amin(data_array)\n",
    "    amax = np.amax(data_array)\n",
    "    scale = 255.0 / (amax - amin)\n",
    "    data_array = data_array - amin\n",
    "    data_array = data_array * scale\n",
    "    data_array = np.uint8(data_array)\n",
    "    return data_array\n",
    "\n",
    "def PCA_analysis(data, x_axis, flag):\n",
    "    # data normalization\n",
    "    norm_data = data.iloc[:, 1:].apply(lambda x: (x - x.mean()) / x.std(), axis=0)\n",
    "    pca = PCA()\n",
    "    pca.fit(norm_data)\n",
    "    feature = pca.transform(norm_data)\n",
    "    data_PCA = pd.DataFrame(feature,\n",
    "                            columns=[\"PC{}\".format(x + 1) for x in range(len(norm_data.columns))])\n",
    "\n",
    "    Spectrum = []\n",
    "\n",
    "    # make graph for PC scatter\n",
    "    os.makedirs(\"./results/figures\", exist_ok=True)\n",
    "    plt.figure(figsize=(6, 6))\n",
    "    plt.scatter(feature[:, 0], feature[:, 1], alpha=0.8, color=\"black\")\n",
    "    plt.grid()\n",
    "    plt.xlabel(\"PC1\")\n",
    "    plt.ylabel(\"PC2\")\n",
    "    plt.grid(False)\n",
    "    plt.savefig(\"./results/figures/PCA_scatter_{}.png\".format(flag), transparent=True)\n",
    "\n",
    "    # make graph for CDF\n",
    "    plt.figure(figsize=(8, 5))\n",
    "    pd.DataFrame(pca.explained_variance_ratio_, index=[\"PC{}\".format(x + 1) for x in range(len(norm_data.columns))])\n",
    "    plt.gca().get_xaxis().set_major_locator(ticker.MaxNLocator(integer=True))\n",
    "    plt.plot([0] + list(np.cumsum(pca.explained_variance_ratio_)), \"-o\",\n",
    "             color=\"black\")\n",
    "    plt.xlabel(\"Number of principal components\")\n",
    "    plt.ylabel(\"Cumulative contribution rate\")\n",
    "    plt.grid()\n",
    "    plt.xlim(0, 15)\n",
    "    plt.grid(False)\n",
    "    plt.savefig(\"./results/figures/PCA_CDF_{}.png\".format(flag), transparent=True, bbox_inches=\"tight\", pad_inches=0.1)\n",
    "\n",
    "    # clustering and\n",
    "    plt.figure(figsize=(30, 30))\n",
    "    extracted_df = data_PCA\n",
    "    cust_array = extracted_df.to_numpy()\n",
    "    cust_array = cust_array\n",
    "    pred = KMeans(n_clusters=cluster_num).fit_predict(cust_array)\n",
    "    pred_image = np.reshape(pred, [x, y])\n",
    "    plt.imshow(pred_image, cmap=\"rainbow\")\n",
    "    plt.savefig('./results/figures/clustered_img_{}.png'.format(flag))\n",
    "    # plt.imsave('./results/figures/clustered_img_{}.png'.format(flag), pred_image)\n",
    "\n",
    "    # class differentiation\n",
    "    os.makedirs(\"./results/spectrum_{}\".format(flag), exist_ok=True)\n",
    "    os.makedirs(\"./results/figures/Class_images_{}\".format(flag), exist_ok=True)\n",
    "    Class_list = []\n",
    "    for i in range(cluster_num):\n",
    "        Class_list.append(np.where(pred != i, 0, 1))\n",
    "        plt.imsave(\"./results/figures/Class_images_{0}/Class{1}.png\".format(flag, i),\n",
    "                   np.reshape(np.where(pred != i, 0, 1), [x, y]))\n",
    "\n",
    "    for i in range(cluster_num):\n",
    "        fig, ax = plt.subplots()\n",
    "        Class_data = data.T * Class_list[i]\n",
    "        Class_data = np.mean(Class_data.T.values, axis=0)\n",
    "        Class_min = np.min(Class_data)\n",
    "        Class_max = np.max(Class_data)\n",
    "        norm_Class_data = (Class_data - Class_min) / (Class_max - Class_min)\n",
    "        ax.set_ylim([-0.2, 1])\n",
    "        ax.grid(False)\n",
    "        ax.invert_xaxis()\n",
    "        ax.plot(x_axis, norm_Class_data, color=\"black\")\n",
    "        plt.savefig(\"./results/spectrum_{0}/norm_Class_{1}.png\".format(flag, i),\n",
    "                    transparent=True, bbox_inches=\"tight\", pad_inches=0.1)\n",
    "\n",
    "        fig, ax = plt.subplots()\n",
    "        ax.set_ylim([-0.2, 1])\n",
    "        ax.grid(False)\n",
    "        ax.invert_xaxis()\n",
    "        ax.plot(x_axis, Class_data, color=\"black\")\n",
    "        plt.savefig(\"./results/spectrum_{0}/Class_{1}.png\".format(flag, i),\n",
    "                    transparent=True, bbox_inches=\"tight\", pad_inches=0.1)\n",
    "\n",
    "        pd.DataFrame(Class_data).to_csv(\"./results/spectrum_{0}/Class_{1}.csv\".format(flag, i))\n",
    "        Spectrum.append(Class_data)\n",
    "    return Spectrum\n",
    "\n",
    "def execute_analysis(data_path, axis_path):\n",
    "    os.chdir(os.path.dirname(data_path))\n",
    "    # all range analysis\n",
    "    data = pd.read_csv(data_path, header=None).T[0:x * y]\n",
    "    x_axis = np.loadtxt(axis_path)\n",
    "    Spectrum = PCA_analysis(data, x_axis, flag=\"full\")\n",
    "    #Entropy_analysis(data, x_axis, flag=\"full\")\n",
    "\n",
    "    # subrange analysis\n",
    "    subrange_axis = x_axis[np.where((x_axis > subrange[0]) & (x_axis < subrange[1]))]\n",
    "    subrange_data = data.T.iloc[np.where((x_axis > subrange[0]) & (x_axis < subrange[1]))].T\n",
    "    PCA_analysis(subrange_data, subrange_axis, flag=\"subrange\")\n",
    "    #Entropy_analysis(data, x_axis, flag=\"subrange\")\n",
    "\n",
    "    return Spectrum, data\n",
    "\n",
    "\n",
    "Spectrum, data = execute_analysis(data_path, axis_path)"
   ]
  },
  {
   "cell_type": "code",
   "execution_count": null,
   "metadata": {
    "id": "5o4EFcq1SAqU",
    "executionInfo": {
     "status": "ok",
     "timestamp": 1674184627143,
     "user_tz": -540,
     "elapsed": 10,
     "user": {
      "displayName": "加納研究室",
      "userId": "04223418218813721824"
     }
    }
   },
   "outputs": [],
   "source": [
    "Spectrum = np.array(Spectrum)\n",
    "S = pd.DataFrame(Spectrum)"
   ]
  },
  {
   "cell_type": "code",
   "execution_count": null,
   "metadata": {
    "colab": {
     "base_uri": "https://localhost:8080/"
    },
    "executionInfo": {
     "elapsed": 4,
     "status": "ok",
     "timestamp": 1674184627144,
     "user": {
      "displayName": "加納研究室",
      "userId": "04223418218813721824"
     },
     "user_tz": -540
    },
    "id": "mCtKJftZSCVX",
    "outputId": "ba8f4b93-2d58-4ce6-c3fc-3347c5cb6421"
   },
   "outputs": [],
   "source": [
    "#S = S.iloc[:, 1:].apply(lambda x: (x - x.mean()) / x.std(), axis=0)\n",
    "S.values.shape\n"
   ]
  },
  {
   "cell_type": "code",
   "execution_count": null,
   "metadata": {
    "id": "GRUvVOOFW7Mh",
    "executionInfo": {
     "status": "ok",
     "timestamp": 1674184627144,
     "user_tz": -540,
     "elapsed": 3,
     "user": {
      "displayName": "加納研究室",
      "userId": "04223418218813721824"
     }
    }
   },
   "outputs": [],
   "source": [
    "from pymcr.mcr import McrAR\n",
    "from pymcr.regressors import NNLS, OLS\n",
    "from pymcr.constraints import ConstraintNonneg, ConstraintNorm\n",
    "\n",
    "# Note constraint order matters\n",
    "mcrar = McrAR(c_regr=OLS(), st_regr=OLS(), c_constraints=[ConstraintNonneg()],\n",
    "              st_constraints=[ConstraintNonneg()])"
   ]
  },
  {
   "cell_type": "code",
   "execution_count": null,
   "metadata": {
    "id": "QLJfDTjpXS8Y",
    "executionInfo": {
     "status": "ok",
     "timestamp": 1674184648708,
     "user_tz": -540,
     "elapsed": 21567,
     "user": {
      "displayName": "加納研究室",
      "userId": "04223418218813721824"
     }
    }
   },
   "outputs": [],
   "source": [
    "D = data\n",
    "#D = D.iloc[:, 1:].apply(lambda x: (x - x.mean()) / x.std(), axis=0)\n",
    "D = D.values\n"
   ]
  },
  {
   "cell_type": "code",
   "execution_count": null,
   "metadata": {
    "colab": {
     "base_uri": "https://localhost:8080/"
    },
    "executionInfo": {
     "elapsed": 4,
     "status": "ok",
     "timestamp": 1674184648709,
     "user": {
      "displayName": "加納研究室",
      "userId": "04223418218813721824"
     },
     "user_tz": -540
    },
    "id": "lcs70dlnZc_b",
    "outputId": "0faa3297-937b-4223-e93a-9eeb9fc2437e"
   },
   "outputs": [],
   "source": [
    "\n",
    "D.shape"
   ]
  },
  {
   "cell_type": "code",
   "execution_count": null,
   "metadata": {
    "colab": {
     "base_uri": "https://localhost:8080/"
    },
    "id": "H-4OGgFzXemN",
    "outputId": "7ab1e7eb-5efa-4c4b-f16b-a1aa2e6fce83",
    "executionInfo": {
     "status": "ok",
     "timestamp": 1674184655703,
     "user_tz": -540,
     "elapsed": 6996,
     "user": {
      "displayName": "加納研究室",
      "userId": "04223418218813721824"
     }
    }
   },
   "outputs": [],
   "source": [
    "mcrar.fit(D, ST=Spectrum, verbose=True)"
   ]
  },
  {
   "cell_type": "code",
   "execution_count": null,
   "metadata": {
    "id": "zuiPeUJ1cifX",
    "executionInfo": {
     "status": "ok",
     "timestamp": 1674184655704,
     "user_tz": -540,
     "elapsed": 10,
     "user": {
      "displayName": "加納研究室",
      "userId": "04223418218813721824"
     }
    }
   },
   "outputs": [],
   "source": [
    "import matplotlib.pyplot as plt"
   ]
  },
  {
   "cell_type": "code",
   "execution_count": null,
   "metadata": {
    "id": "mWOpuGFwjUJ_",
    "executionInfo": {
     "status": "ok",
     "timestamp": 1674184656525,
     "user_tz": -540,
     "elapsed": 830,
     "user": {
      "displayName": "加納研究室",
      "userId": "04223418218813721824"
     }
    },
    "colab": {
     "base_uri": "https://localhost:8080/",
     "height": 729
    },
    "outputId": "f74566f9-b7bf-4faa-b821-ad812d3ec37b"
   },
   "outputs": [],
   "source": [
    "plt.figure(figsize=(6,10))\n",
    "plt.subplot(311)\n",
    "plt.plot(Spectrum.T)\n",
    "plt.xlabel(r'Wavenumber (cm$^{-1}$)')\n",
    "plt.ylabel('Intensity (au)')\n",
    "plt.title('Initial')\n",
    "\n",
    "plt.subplot(312)\n",
    "plt.plot(mcrar.ST_opt_.T)\n",
    "plt.xlabel(r'Wavenumber (cm$^{-1}$)')\n",
    "plt.ylabel('Intensity (au)')\n",
    "plt.title('MCR-AR Retrieved')\n",
    "\n",
    "plt.subplot(313)\n",
    "plt.plot(Spectrum.T - mcrar.ST_opt_.T)\n",
    "plt.xlabel(r'Wavenumber (cm$^{-1}$)')\n",
    "plt.ylabel('Intensity (au)')\n",
    "plt.title('Difference')\n",
    "\n",
    "plt.tight_layout()\n",
    "plt.show()\n"
   ]
  },
  {
   "cell_type": "code",
   "execution_count": null,
   "metadata": {
    "id": "BnWw8cemkXf7",
    "executionInfo": {
     "status": "error",
     "timestamp": 1674184656525,
     "user_tz": -540,
     "elapsed": 9,
     "user": {
      "displayName": "加納研究室",
      "userId": "04223418218813721824"
     }
    },
    "colab": {
     "base_uri": "https://localhost:8080/",
     "height": 130
    },
    "outputId": "7ad482d9-c483-4c6d-96a7-2c75f123fdf8"
   },
   "outputs": [],
   "source": [
    "plt.figure(figsize=(4,10))\n",
    "plt.subplot(251)\n",
    "plt.imshow(mcrar.C_opt_[:,0].reshape(x,y))\n",
    "plt.subplot(252)\n",
    "plt.imshow(mcrar.C_opt_[:,2].reshape(x,y))\n",
    "plt.subplot(253)\n",
    "plt.imshow(mcrar.C_opt_[:,1].reshape(x,y))\n",
    "plt.subplot(254)\n",
    "plt.imshow(mcrar.C_opt_[:,3].reshape(x,y))\n",
    "plt.subplot(255)\n",
    "plt.imshow(mcrar.C_opt_[:,4].reshape(x,y))\n",
    "plt.subplot(256)\n",
    "plt.imshow(mcrar.C_opt_[:,5].reshape(x,y))\n",
    "plt.subplot(257)\n",
    "plt.imshow(mcrar.C_opt_[:,6].reshape(x,y))\n",
    "plt.subplot(258)\n",
    "plt.imshow(mcrar.C_opt_[:,7].reshape(x,y))\n",
    "plt.subplot(259)\n",
    "plt.imshow(mcrar.C_opt_[:,8].reshape(x,y))\n",
    "plt.subplot(2510)\n",
    "plt.imshow(mcrar.C_opt_[:,9].reshape(x,y))\n",
    "plt.savefig(\"images.png\")"
   ]
  },
  {
   "cell_type": "code",
   "execution_count": null,
   "metadata": {
    "id": "SDG9Os620dhz",
    "executionInfo": {
     "status": "aborted",
     "timestamp": 1674184656526,
     "user_tz": -540,
     "elapsed": 8,
     "user": {
      "displayName": "加納研究室",
      "userId": "04223418218813721824"
     }
    }
   },
   "outputs": [],
   "source": [
    "plt.imshow(mcrar.C_opt_[:,0].reshape(501,351))\n"
   ]
  },
  {
   "cell_type": "code",
   "execution_count": null,
   "metadata": {
    "id": "8f6IJI541ox_",
    "executionInfo": {
     "status": "aborted",
     "timestamp": 1674184656526,
     "user_tz": -540,
     "elapsed": 8,
     "user": {
      "displayName": "加納研究室",
      "userId": "04223418218813721824"
     }
    }
   },
   "outputs": [],
   "source": [
    "plt.plot(mcrar.ST_opt_.T[:,0])\n",
    "plt.xlabel(r'Wavenumber (cm$^{-1}$)')\n",
    "plt.ylabel('Intensity (au)')\n",
    "plt.title('MCR-AR Retrieved')"
   ]
  },
  {
   "cell_type": "code",
   "execution_count": null,
   "metadata": {
    "id": "VXfWc7-SkgZS",
    "executionInfo": {
     "status": "aborted",
     "timestamp": 1674183737152,
     "user_tz": -540,
     "elapsed": 172570,
     "user": {
      "displayName": "加納研究室",
      "userId": "04223418218813721824"
     }
    }
   },
   "outputs": [],
   "source": [
    "plt.figure(figsize=(10,4))\n",
    "for i in range(10):\n",
    "    plt.subplot(5,2,i)\n",
    "    plt.plot(mcrar.ST_opt_.T[:,i])\n",
    "    plt.xlabel(r'Wavenumber (cm$^{-1}$)')\n",
    "    plt.ylabel('Intensity (au)')\n",
    "plt.savefig(\"spectrum.png\")"
   ]
  },
  {
   "cell_type": "code",
   "source": [
    "plt.figure(figsize=(10,4))\n",
    "for i in range(10):\n",
    "    plt.subplot(5,2,i)\n",
    "    plt.plot(mcrar.C_opt_[:,i].reshape(x,y))\n",
    "    plt.tick_params(bottom=False, left=False, right=False, top=False)\n",
    "    plt.tick_params(labelbottom=False, labelleft=False, labelright=False, labeltop=False)\n",
    "plt.savefig(\"image.png\")"
   ],
   "metadata": {
    "id": "QYtrX_pr7ozu",
    "executionInfo": {
     "status": "aborted",
     "timestamp": 1674183737152,
     "user_tz": -540,
     "elapsed": 172433,
     "user": {
      "displayName": "加納研究室",
      "userId": "04223418218813721824"
     }
    }
   },
   "execution_count": null,
   "outputs": []
  }
 ],
 "metadata": {
  "colab": {
   "provenance": []
  },
  "kernelspec": {
   "display_name": "Python 3",
   "name": "python3"
  },
  "language_info": {
   "name": "python"
  }
 },
 "nbformat": 4,
 "nbformat_minor": 0
}
