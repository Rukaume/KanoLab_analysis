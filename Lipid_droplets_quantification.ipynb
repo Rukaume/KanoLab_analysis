{
 "cells": [
  {
   "cell_type": "code",
   "execution_count": 2,
   "metadata": {
    "collapsed": true
   },
   "outputs": [],
   "source": [
    "import os\n",
    "import numpy as np\n",
    "import pandas as pd\n",
    "import matplotlib.pyplot as plt"
   ]
  },
  {
   "cell_type": "code",
   "execution_count": 3,
   "outputs": [],
   "source": [
    "N2_data = pd.read_csv(\"C:/Users/Shinichi/Desktop/202110Kyushu/Analysis/N2_1030_ce02.csv\")"
   ],
   "metadata": {
    "collapsed": false,
    "pycharm": {
     "name": "#%%\n"
    }
   }
  },
  {
   "cell_type": "code",
   "execution_count": 4,
   "outputs": [
    {
     "data": {
      "text/plain": "          Area     Mean  Min  Max        XM        YM    BX    BY  Width  \\\n0      1  1137  227.555  124  255   739.159     9.327   706     0     62   \n1      2   308  144.880  103  214   900.136    11.808   892     0     21   \n2      3   289  163.211  137  188   935.430     8.286   923     0     21   \n3      4   170  193.588  147  235   997.427     4.321   986     0     20   \n4      5    90  118.000  118  118  1084.000     4.500  1079     0     10   \n..   ...   ...      ...  ...  ...       ...       ...   ...   ...    ...   \n270  271    99  160.000  160  160   368.955  1811.955   364  1807     10   \n271  272   121  139.000  139  139   379.500  1822.500   374  1817     11   \n272  273   121  113.000  113  113   379.500  1853.500   374  1848     11   \n273  274   210  151.714  116  191   373.205  1874.000   364  1869     21   \n274  275   100  103.000  103  103   369.000  1895.000   364  1890     10   \n\n     Height  Median        MinThr        MaxThr  \n0        19   255.0 -3.403000e+38  3.400000e+38  \n1        19   111.0 -3.403000e+38  3.400000e+38  \n2        19   162.0 -3.403000e+38  3.400000e+38  \n3         9   235.0 -3.403000e+38  3.400000e+38  \n4         9   118.0 -3.403000e+38  3.400000e+38  \n..      ...     ...           ...           ...  \n270      10   160.0 -3.403000e+38  3.400000e+38  \n271      11   139.0 -3.403000e+38  3.400000e+38  \n272      11   113.0 -3.403000e+38  3.400000e+38  \n273      10   116.0 -3.403000e+38  3.400000e+38  \n274      10   103.0 -3.403000e+38  3.400000e+38  \n\n[275 rows x 14 columns]",
      "text/html": "<div>\n<style scoped>\n    .dataframe tbody tr th:only-of-type {\n        vertical-align: middle;\n    }\n\n    .dataframe tbody tr th {\n        vertical-align: top;\n    }\n\n    .dataframe thead th {\n        text-align: right;\n    }\n</style>\n<table border=\"1\" class=\"dataframe\">\n  <thead>\n    <tr style=\"text-align: right;\">\n      <th></th>\n      <th></th>\n      <th>Area</th>\n      <th>Mean</th>\n      <th>Min</th>\n      <th>Max</th>\n      <th>XM</th>\n      <th>YM</th>\n      <th>BX</th>\n      <th>BY</th>\n      <th>Width</th>\n      <th>Height</th>\n      <th>Median</th>\n      <th>MinThr</th>\n      <th>MaxThr</th>\n    </tr>\n  </thead>\n  <tbody>\n    <tr>\n      <th>0</th>\n      <td>1</td>\n      <td>1137</td>\n      <td>227.555</td>\n      <td>124</td>\n      <td>255</td>\n      <td>739.159</td>\n      <td>9.327</td>\n      <td>706</td>\n      <td>0</td>\n      <td>62</td>\n      <td>19</td>\n      <td>255.0</td>\n      <td>-3.403000e+38</td>\n      <td>3.400000e+38</td>\n    </tr>\n    <tr>\n      <th>1</th>\n      <td>2</td>\n      <td>308</td>\n      <td>144.880</td>\n      <td>103</td>\n      <td>214</td>\n      <td>900.136</td>\n      <td>11.808</td>\n      <td>892</td>\n      <td>0</td>\n      <td>21</td>\n      <td>19</td>\n      <td>111.0</td>\n      <td>-3.403000e+38</td>\n      <td>3.400000e+38</td>\n    </tr>\n    <tr>\n      <th>2</th>\n      <td>3</td>\n      <td>289</td>\n      <td>163.211</td>\n      <td>137</td>\n      <td>188</td>\n      <td>935.430</td>\n      <td>8.286</td>\n      <td>923</td>\n      <td>0</td>\n      <td>21</td>\n      <td>19</td>\n      <td>162.0</td>\n      <td>-3.403000e+38</td>\n      <td>3.400000e+38</td>\n    </tr>\n    <tr>\n      <th>3</th>\n      <td>4</td>\n      <td>170</td>\n      <td>193.588</td>\n      <td>147</td>\n      <td>235</td>\n      <td>997.427</td>\n      <td>4.321</td>\n      <td>986</td>\n      <td>0</td>\n      <td>20</td>\n      <td>9</td>\n      <td>235.0</td>\n      <td>-3.403000e+38</td>\n      <td>3.400000e+38</td>\n    </tr>\n    <tr>\n      <th>4</th>\n      <td>5</td>\n      <td>90</td>\n      <td>118.000</td>\n      <td>118</td>\n      <td>118</td>\n      <td>1084.000</td>\n      <td>4.500</td>\n      <td>1079</td>\n      <td>0</td>\n      <td>10</td>\n      <td>9</td>\n      <td>118.0</td>\n      <td>-3.403000e+38</td>\n      <td>3.400000e+38</td>\n    </tr>\n    <tr>\n      <th>...</th>\n      <td>...</td>\n      <td>...</td>\n      <td>...</td>\n      <td>...</td>\n      <td>...</td>\n      <td>...</td>\n      <td>...</td>\n      <td>...</td>\n      <td>...</td>\n      <td>...</td>\n      <td>...</td>\n      <td>...</td>\n      <td>...</td>\n      <td>...</td>\n    </tr>\n    <tr>\n      <th>270</th>\n      <td>271</td>\n      <td>99</td>\n      <td>160.000</td>\n      <td>160</td>\n      <td>160</td>\n      <td>368.955</td>\n      <td>1811.955</td>\n      <td>364</td>\n      <td>1807</td>\n      <td>10</td>\n      <td>10</td>\n      <td>160.0</td>\n      <td>-3.403000e+38</td>\n      <td>3.400000e+38</td>\n    </tr>\n    <tr>\n      <th>271</th>\n      <td>272</td>\n      <td>121</td>\n      <td>139.000</td>\n      <td>139</td>\n      <td>139</td>\n      <td>379.500</td>\n      <td>1822.500</td>\n      <td>374</td>\n      <td>1817</td>\n      <td>11</td>\n      <td>11</td>\n      <td>139.0</td>\n      <td>-3.403000e+38</td>\n      <td>3.400000e+38</td>\n    </tr>\n    <tr>\n      <th>272</th>\n      <td>273</td>\n      <td>121</td>\n      <td>113.000</td>\n      <td>113</td>\n      <td>113</td>\n      <td>379.500</td>\n      <td>1853.500</td>\n      <td>374</td>\n      <td>1848</td>\n      <td>11</td>\n      <td>11</td>\n      <td>113.0</td>\n      <td>-3.403000e+38</td>\n      <td>3.400000e+38</td>\n    </tr>\n    <tr>\n      <th>273</th>\n      <td>274</td>\n      <td>210</td>\n      <td>151.714</td>\n      <td>116</td>\n      <td>191</td>\n      <td>373.205</td>\n      <td>1874.000</td>\n      <td>364</td>\n      <td>1869</td>\n      <td>21</td>\n      <td>10</td>\n      <td>116.0</td>\n      <td>-3.403000e+38</td>\n      <td>3.400000e+38</td>\n    </tr>\n    <tr>\n      <th>274</th>\n      <td>275</td>\n      <td>100</td>\n      <td>103.000</td>\n      <td>103</td>\n      <td>103</td>\n      <td>369.000</td>\n      <td>1895.000</td>\n      <td>364</td>\n      <td>1890</td>\n      <td>10</td>\n      <td>10</td>\n      <td>103.0</td>\n      <td>-3.403000e+38</td>\n      <td>3.400000e+38</td>\n    </tr>\n  </tbody>\n</table>\n<p>275 rows × 14 columns</p>\n</div>"
     },
     "execution_count": 4,
     "metadata": {},
     "output_type": "execute_result"
    }
   ],
   "source": [
    "N2_data"
   ],
   "metadata": {
    "collapsed": false,
    "pycharm": {
     "name": "#%%\n"
    }
   }
  },
  {
   "cell_type": "code",
   "execution_count": null,
   "outputs": [],
   "source": [],
   "metadata": {
    "collapsed": false,
    "pycharm": {
     "name": "#%%\n"
    }
   }
  }
 ],
 "metadata": {
  "kernelspec": {
   "display_name": "Python 3",
   "language": "python",
   "name": "python3"
  },
  "language_info": {
   "codemirror_mode": {
    "name": "ipython",
    "version": 2
   },
   "file_extension": ".py",
   "mimetype": "text/x-python",
   "name": "python",
   "nbconvert_exporter": "python",
   "pygments_lexer": "ipython2",
   "version": "2.7.6"
  }
 },
 "nbformat": 4,
 "nbformat_minor": 0
}